{
 "cells": [
  {
   "cell_type": "code",
   "execution_count": 1,
   "id": "9f0925aa",
   "metadata": {},
   "outputs": [],
   "source": [
    "import pandas as pd\n",
    "import numpy as np\n",
    "from sklearn.model_selection import train_test_split\n",
    "from sklearn.preprocessing import OneHotEncoder\n",
    "from sklearn.compose import ColumnTransformer\n",
    "from sklearn.pipeline import Pipeline\n",
    "from sklearn.ensemble import RandomForestClassifier\n",
    "from sklearn.metrics import classification_report, roc_auc_score\n",
    "import joblib"
   ]
  },
  {
   "cell_type": "code",
   "execution_count": 2,
   "id": "b1c203d8",
   "metadata": {},
   "outputs": [],
   "source": [
    "\n",
    "# -----------------------------\n",
    "# 1. Cargar dataset\n",
    "# -----------------------------\n",
    "df = pd.read_csv(\"../data/churn_dataset_300.csv\")\n",
    "\n",
    "X = df.drop([\"CustomerID\", \"Churn\"], axis=1)\n",
    "y = df[\"Churn\"]"
   ]
  },
  {
   "cell_type": "code",
   "execution_count": 3,
   "id": "8f4731bc",
   "metadata": {},
   "outputs": [
    {
     "name": "stdout",
     "output_type": "stream",
     "text": [
      "ROC-AUC: 0.9993990384615384\n",
      "              precision    recall  f1-score   support\n",
      "\n",
      "           0       0.97      1.00      0.98        64\n",
      "           1       1.00      0.92      0.96        26\n",
      "\n",
      "    accuracy                           0.98        90\n",
      "   macro avg       0.98      0.96      0.97        90\n",
      "weighted avg       0.98      0.98      0.98        90\n",
      "\n"
     ]
    }
   ],
   "source": [
    "\n",
    "# -----------------------------\n",
    "# 2. Preprocesamiento\n",
    "# -----------------------------\n",
    "cat_features = [\"Contract\"]\n",
    "num_features = [\"Tenure\", \"MonthlyCharges\", \"Complaints\", \"PaymentLate\"]\n",
    "\n",
    "preprocessor = ColumnTransformer(\n",
    "    transformers=[\n",
    "        (\"cat\", OneHotEncoder(drop=\"first\"), cat_features),\n",
    "        (\"num\", \"passthrough\", num_features)\n",
    "    ]\n",
    ")\n",
    "\n",
    "# -----------------------------\n",
    "# 3. Pipeline con modelo\n",
    "# -----------------------------\n",
    "pipeline = Pipeline(steps=[\n",
    "    (\"preprocessor\", preprocessor),\n",
    "    (\"classifier\", RandomForestClassifier(\n",
    "        n_estimators=200, random_state=42, class_weight=\"balanced\"\n",
    "    ))\n",
    "])\n",
    "\n",
    "# -----------------------------\n",
    "# 4. Train-Test Split + Entrenar\n",
    "# -----------------------------\n",
    "X_train, X_test, y_train, y_test = train_test_split(\n",
    "    X, y, test_size=0.3, random_state=42, stratify=y\n",
    ")\n",
    "\n",
    "pipeline.fit(X_train, y_train)\n",
    "\n",
    "# -----------------------------\n",
    "# 5. Evaluación\n",
    "# -----------------------------\n",
    "y_pred = pipeline.predict(X_test)\n",
    "y_proba = pipeline.predict_proba(X_test)[:,1]\n",
    "\n",
    "print(\"ROC-AUC:\", roc_auc_score(y_test, y_proba))\n",
    "print(classification_report(y_test, y_pred))"
   ]
  },
  {
   "cell_type": "code",
   "execution_count": null,
   "id": "3cad1a3b",
   "metadata": {},
   "outputs": [
    {
     "name": "stdout",
     "output_type": "stream",
     "text": [
      "✅ Modelo guardado en ../data/churn_model.pkl\n"
     ]
    }
   ],
   "source": [
    "\n",
    "pipeline.fit(X, y)\n",
    "# -----------------------------\n",
    "# 6. Guardar modelo entrenado\n",
    "# -----------------------------\n",
    "joblib.dump(pipeline, \"../data/churn_model.pkl\")\n",
    "print(\"✅ Modelo guardado en ../data/churn_model.pkl\")"
   ]
  },
  {
   "cell_type": "code",
   "execution_count": null,
   "id": "7a4fc5f1",
   "metadata": {},
   "outputs": [],
   "source": [
    "\n",
    "# -----------------------------\n",
    "# 7. Ejemplo de carga y predicción\n",
    "# -----------------------------\n",
    "# pipeline_loaded = joblib.load(\"../data/churn_model.pkl\")\n",
    "# nuevo_cliente = pd.DataFrame([{\n",
    "#     \"Tenure\": 5,\n",
    "#     \"MonthlyCharges\": 95,\n",
    "#     \"Contract\": \"Month-to-Month\",\n",
    "#     \"Complaints\": 2,\n",
    "#     \"PaymentLate\": 1\n",
    "# }])\n",
    "# print(\"Predicción churn:\", pipeline_loaded.predict(nuevo_cliente))\n",
    "# print(\"Probabilidad churn:\", pipeline_loaded.predict_proba(nuevo_cliente))\n"
   ]
  }
 ],
 "metadata": {
  "kernelspec": {
   "display_name": ".venv",
   "language": "python",
   "name": "python3"
  },
  "language_info": {
   "codemirror_mode": {
    "name": "ipython",
    "version": 3
   },
   "file_extension": ".py",
   "mimetype": "text/x-python",
   "name": "python",
   "nbconvert_exporter": "python",
   "pygments_lexer": "ipython3",
   "version": "3.13.5"
  }
 },
 "nbformat": 4,
 "nbformat_minor": 5
}
