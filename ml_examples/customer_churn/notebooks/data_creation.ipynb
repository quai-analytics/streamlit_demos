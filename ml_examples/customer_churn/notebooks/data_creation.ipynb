{
 "cells": [
  {
   "cell_type": "code",
   "execution_count": 2,
   "id": "bf199b11",
   "metadata": {},
   "outputs": [
    {
     "data": {
      "text/plain": [
       "'../data/churn_dataset_300.csv'"
      ]
     },
     "execution_count": 2,
     "metadata": {},
     "output_type": "execute_result"
    }
   ],
   "source": [
    "import pandas as pd\n",
    "import numpy as np\n",
    "\n",
    "# -----------------------------\n",
    "# 1. Crear dataset simulado con lógica de churn\n",
    "# -----------------------------\n",
    "np.random.seed(42)\n",
    "n = 300  # número de clientes\n",
    "\n",
    "data = {\n",
    "    \"CustomerID\": [f\"C{i:03d}\" for i in range(1, n+1)],\n",
    "    \"Tenure\": np.random.randint(1, 60, n),  # meses como cliente\n",
    "    \"MonthlyCharges\": np.random.randint(30, 120, n),  # cargos mensuales\n",
    "    \"Contract\": np.random.choice([\"Month-to-Month\", \"1-year\", \"2-year\"], n, p=[0.5, 0.3, 0.2]),\n",
    "    \"Complaints\": np.random.poisson(0.5, n),  # número de quejas\n",
    "    \"PaymentLate\": np.random.binomial(1, 0.2, n),  # 1 si paga tarde\n",
    "}\n",
    "\n",
    "# Crear variable target (Churn) con lógica\n",
    "df = pd.DataFrame(data)\n",
    "df[\"Churn\"] = (\n",
    "    (df[\"Contract\"] == \"Month-to-Month\").astype(int) +\n",
    "    (df[\"MonthlyCharges\"] > 90).astype(int) +\n",
    "    (df[\"Complaints\"] > 1).astype(int) +\n",
    "    (df[\"PaymentLate\"])\n",
    ")\n",
    "df[\"Churn\"] = (df[\"Churn\"] > 1).astype(int)  # churn si cumple 2+ condiciones\n",
    "\n",
    "# Guardar CSV\n",
    "file_path = \"../data/churn_dataset_300.csv\"\n",
    "df.to_csv(file_path, index=False)\n",
    "\n",
    "file_path\n"
   ]
  }
 ],
 "metadata": {
  "kernelspec": {
   "display_name": ".venv",
   "language": "python",
   "name": "python3"
  },
  "language_info": {
   "codemirror_mode": {
    "name": "ipython",
    "version": 3
   },
   "file_extension": ".py",
   "mimetype": "text/x-python",
   "name": "python",
   "nbconvert_exporter": "python",
   "pygments_lexer": "ipython3",
   "version": "3.13.5"
  }
 },
 "nbformat": 4,
 "nbformat_minor": 5
}
